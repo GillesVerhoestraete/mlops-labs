{
  "cells": [
    {
      "cell_type": "markdown",
      "metadata": {
        "id": "FF6hRc3g1WPA"
      },
      "source": [
        "# Part 0: Prerequisites\n",
        "\n",
        "Before we can start this lab, we need to install a CLI tool and a Python SDK to interact with Azure."
      ]
    },
    {
      "cell_type": "markdown",
      "metadata": {
        "id": "m_nBfz8w02xe"
      },
      "source": [
        "**Installing Azure Command Line Interface (Azure CLI)**\n",
        "\n",
        "This command is used to install the Azure Command Line Interface (Azure CLI) on a Linux-based system. Azure CLI is a set of open-source commands for managing Azure resources and services from the command line. We'll use the Azure CLI to authenticate ourselves.\n"
      ]
    },
    {
      "cell_type": "code",
      "execution_count": null,
      "metadata": {
        "colab": {
          "base_uri": "https://localhost:8080/"
        },
        "id": "94NHV2iGXMtW",
        "outputId": "3137a950-8209-4fd3-94ff-a77669e6d717"
      },
      "outputs": [],
      "source": [
        "!curl -sL https://aka.ms/InstallAzureCLIDeb | sudo bash"
      ]
    },
    {
      "cell_type": "markdown",
      "metadata": {
        "id": "ICh68LyZ1Kj8"
      },
      "source": [
        "**Installing the Azure Python packages**\n",
        "\n",
        "This command is used to install some Azure Python packages:\n",
        "\n",
        "- `azure-mgmt-resource`: provides functionality for managing Azure resources.\n",
        "- `azure-ai-ml`: provides functionality for working with Azure Machine Learning services."
      ]
    },
    {
      "cell_type": "code",
      "execution_count": null,
      "metadata": {
        "colab": {
          "base_uri": "https://localhost:8080/"
        },
        "id": "Ehbj97DM4GMB",
        "outputId": "63154d2a-fc6e-4368-8794-423977022ba9"
      },
      "outputs": [],
      "source": [
        "!pip install azure-mgmt-resource azure-ai-ml"
      ]
    },
    {
      "cell_type": "markdown",
      "metadata": {
        "id": "wUuuaR0szzhX"
      },
      "source": [
        "# Part 1: Very Basic Image Classifier in notebook\n",
        "\n",
        "\n",
        "The typical machine learning (ML) workflow begins within a Jupyter notebook where data scientists and analysts prototype and experiment with ML models. In the notebook, they perform essential tasks such as data preprocessing, exploratory data analysis (EDA), feature engineering, model selection, training, and evaluation. Once a promising model is developed and tested locally, the transition to MLOps (Machine Learning Operations) is crucial."
      ]
    },
    {
      "cell_type": "markdown",
      "metadata": {
        "id": "BIPfzu2_Y56E"
      },
      "source": [
        "### Imports\n",
        "\n",
        "This code cell sets up the environment for working with different python packages. We import the following packages:\n",
        "\n",
        "- `tensorflow` for TensorFlow.\n",
        "- `ImageDataGenerator` from `tensorflow.keras.preprocessing.image` for image data augmentation.\n",
        "- `numpy` for numerical operations.\n",
        "- `matplotlib.pyplot` for data visualization.\n",
        "\n",
        "We check the TensorFlow version by print the TensorFlow version. This can be useful to verify that you're using the desired version."
      ]
    },
    {
      "cell_type": "code",
      "execution_count": null,
      "metadata": {
        "colab": {
          "base_uri": "https://localhost:8080/"
        },
        "id": "xNDr2DAXykfI",
        "outputId": "29bfd825-5379-4171-ae1c-e75782be62ea"
      },
      "outputs": [],
      "source": [
        "# TensorFlow and tf.keras\n",
        "import tensorflow as tf\n",
        "from tensorflow.keras.preprocessing.image import ImageDataGenerator\n",
        "\n",
        "# Helper libraries\n",
        "import numpy as np\n",
        "import matplotlib.pyplot as plt\n",
        "\n",
        "print(tf.__version__)"
      ]
    },
    {
      "cell_type": "markdown",
      "metadata": {
        "id": "exRo-qU_Y79W"
      },
      "source": [
        "### Constants\n",
        "\n",
        "This code cell defines a set of configuration constants that are commonly used when working with image datasets for machine learning tasks. These constants help streamline the process of setting up and training models."
      ]
    },
    {
      "cell_type": "code",
      "execution_count": null,
      "metadata": {
        "id": "GpqlaOgOAgj2"
      },
      "outputs": [],
      "source": [
        "DATASET = \"dataset\"\n",
        "IMAGE_SIZE = (150, 150)\n",
        "BATCH_SIZE = 8\n",
        "EPOCHS = 10"
      ]
    },
    {
      "cell_type": "markdown",
      "metadata": {
        "id": "q3Ed1qIuzEEE"
      },
      "source": [
        "### Creating the dataset\n",
        "\n",
        "This shell command removes a directory and its contents using the rm command with the `-rf` flags. The `-r` flag stands for \"recursive,\" which means that it will remove not only the directory itself but also all files and subdirectories within it. The `-f` flag stands for \"force,\" which suppresses any confirmation prompts, making the removal process non-interactive."
      ]
    },
    {
      "cell_type": "code",
      "execution_count": null,
      "metadata": {
        "id": "VemTPaf_1tXQ"
      },
      "outputs": [],
      "source": [
        "!rm -rf dataset"
      ]
    },
    {
      "cell_type": "markdown",
      "metadata": {
        "id": "4nPzYqzi23r-"
      },
      "source": [
        "This code cell is responsible for downloading image data and organizing it into a structured directory hierarchy. It is a common step in machine learning projects, especially when working with image classification tasks. The code downloads images of apples and oranges from various URLs and categorizes them into training, validation, and test sets.\n",
        "\n",
        "\n",
        "The dataset provided serves as a useful illustration of machine learning concepts, showcasing how to organize and prepare data for a model. However, it's important to note that this example dataset is exceptionally small in scale, containing just a handful of images of apples and oranges. In practice, real-world datasets can be significantly larger and more complex.\n",
        "\n",
        "Collecting real datasets for machine learning tasks often presents substantial challenges. Here are a few key considerations:\n",
        "\n",
        "- **Size:** Real datasets may consist of thousands or even millions of samples, necessitating extensive storage and computational resources for handling and processing.\n",
        "- **Labeling:** In many cases, each data point must be labeled or categorized correctly. Manual labeling can be a time-consuming and labor-intensive process, especially for large datasets.\n",
        "- **Diversity:** Real datasets often exhibit a wide range of variations, noise, and complexities, making them more representative of the challenges encountered in real-world applications.\n",
        "- **Bias and Fairness:** Ensuring that a dataset is unbiased and fairly represents diverse demographics and scenarios is crucial for ethical and accurate machine learning.\n",
        "- **Privacy and Compliance:** Handling sensitive or personal data requires strict adherence to privacy regulations, adding legal and ethical dimensions to dataset collection."
      ]
    },
    {
      "cell_type": "code",
      "execution_count": null,
      "metadata": {
        "id": "hi46fDqbPYA9"
      },
      "outputs": [],
      "source": [
        "import os\n",
        "import requests\n",
        "\n",
        "for path in [\n",
        "    \"dataset/train/apples\",\n",
        "    \"dataset/val/apples\",\n",
        "    \"dataset/test/apples\",\n",
        "    \"dataset/train/oranges\",\n",
        "    \"dataset/val/oranges\",\n",
        "    \"dataset/test/oranges\",\n",
        "]:\n",
        "    os.makedirs(path)\n",
        "\n",
        "\n",
        "def download_from_list(list, type):\n",
        "    for i, img_url in enumerate(list):\n",
        "        response = requests.get(img_url)\n",
        "        response.raise_for_status()\n",
        "\n",
        "        ml_split = \"train\"\n",
        "        if i == 9:\n",
        "            ml_split = \"test\"\n",
        "        elif i == 8:\n",
        "            ml_split = \"val\"\n",
        "\n",
        "        with open(f\"dataset/{ml_split}/{type}s/{type}{i}.jpeg\", \"wb\") as file:\n",
        "            file.write(response.content)\n",
        "\n",
        "\n",
        "download_from_list(\n",
        "    [\n",
        "        \"https://images.unsplash.com/photo-1570913149827-d2ac84ab3f9a?ixlib=rb-4.0.3&ixid=M3wxMjA3fDB8MHxleHBsb3JlLWZlZWR8MXx8fGVufDB8fHx8fA%3D%3D&w=1000&q=80\",\n",
        "        \"https://thumbs.dreamstime.com/b/red-apple-isolated-clipping-path-19130134.jpg\",\n",
        "        \"https://images.unsplash.com/photo-1610397962076-02407a169a5b?ixlib=rb-4.0.3&ixid=M3wxMjA3fDB8MHxleHBsb3JlLWZlZWR8Mnx8fGVufDB8fHx8fA%3D%3D&w=1000&q=80\",\n",
        "        \"https://images.unsplash.com/photo-1568702846914-96b305d2aaeb?ixlib=rb-4.0.3&ixid=M3wxMjA3fDB8MHxwaG90by1wYWdlfHx8fGVufDB8fHx8fA%3D%3D&auto=format&fit=crop&w=2940&q=80\",\n",
        "        \"https://images.unsplash.com/photo-1576179635662-9d1983e97e1e?ixlib=rb-4.0.3&ixid=M3wxMjA3fDB8MHxwaG90by1wYWdlfHx8fGVufDB8fHx8fA%3D%3D&auto=format&fit=crop&w=2787&q=80\",\n",
        "        \"https://domf5oio6qrcr.cloudfront.net/medialibrary/11525/0a5ae820-7051-4495-bcca-61bf02897472.jpg\",\n",
        "        \"https://img.freepik.com/free-photo/two-red-apples-isolated-white_114579-73124.jpg\",\n",
        "        \"https://t3.ftcdn.net/jpg/01/09/81/46/360_F_109814626_y5dGATGj8h3pMz9tq1HNRfiuXR12uFCj.jpg\",\n",
        "        \"https://i.pinimg.com/originals/e7/4e/78/e74e782a805bf6f2cc8f178a6063f9d7.jpg\",\n",
        "        \"https://images.unsplash.com/photo-1584306670957-acf935f5033c?ixlib=rb-4.0.3&ixid=M3wxMjA3fDB8MHxleHBsb3JlLWZlZWR8OHx8fGVufDB8fHx8fA%3D%3D&w=1000&q=80\",\n",
        "    ],\n",
        "    \"apple\",\n",
        ")\n",
        "\n",
        "download_from_list(\n",
        "    [\n",
        "        \"https://plus.unsplash.com/premium_photo-1671013032586-3e9a5c49ce3c?ixlib=rb-4.0.3&ixid=M3wxMjA3fDB8MHxwaG90by1wYWdlfHx8fGVufDB8fHx8fA%3D%3D&auto=format&fit=crop&w=2787&q=80\",\n",
        "        \"https://images.unsplash.com/photo-1547514701-42782101795e?ixlib=rb-4.0.3&ixid=M3wxMjA3fDB8MHxwaG90by1wYWdlfHx8fGVufDB8fHx8fA%3D%3D&auto=format&fit=crop&w=2787&q=80\",\n",
        "        \"https://images.unsplash.com/photo-1514936477380-5ea603b9a1ca?ixlib=rb-4.0.3&ixid=M3wxMjA3fDB8MHxwaG90by1wYWdlfHx8fGVufDB8fHx8fA%3D%3D&auto=format&fit=crop&w=2835&q=80\",\n",
        "        \"https://img.freepik.com/free-photo/orange-white-white_144627-16571.jpg?w=2000\",\n",
        "        \"https://encrypted-tbn0.gstatic.com/images?q=tbn:ANd9GcRWbb0dC-vAS3Mqx6l_F6uDkUSWFtjHJ8v-MA&usqp=CAU\",\n",
        "        \"https://static3.depositphotos.com/1000955/120/i/450/depositphotos_1207359-stock-photo-orange.jpg\",\n",
        "        \"https://publish.purewow.net/wp-content/uploads/sites/2/2021/02/types-of-oranges-navel-oranges.jpg?fit=680%2C489\",\n",
        "        \"https://encrypted-tbn0.gstatic.com/images?q=tbn:ANd9GcQnS7lPkp0iYsdVraHtEdmNMQ4g7CFNXGZIuFPyNDZamQG29q6K2mLKo1MbSeYfn8NdWoM&usqp=CAU\",\n",
        "        \"https://encrypted-tbn0.gstatic.com/images?q=tbn:ANd9GcSgA7xpOViT-HeWGzj7f3-rWgX9Fu-dabTj4g&usqp=CAU\",\n",
        "        \"https://modernfarmer.com/wp-content/uploads/2018/02/Navel_Orange.jpg\",\n",
        "    ],\n",
        "    \"orange\",\n",
        ")"
      ]
    },
    {
      "cell_type": "markdown",
      "metadata": {
        "id": "1HM8Wl22zFZB"
      },
      "source": [
        "### Preprocessing\n",
        "\n",
        "In the machine learning workflow, preprocessing is a crucial step that focuses on preparing and enhancing the raw data before it's fed into a model. It plays a pivotal role in shaping the success of a machine learning algorithm. Data preprocessing encompasses various tasks, including cleaning, transformation, and feature engineering.\n",
        "\n",
        "In the case of image data, as seen in the following code cell, preprocessing often includes resizing images, rescaling pixel values, and organizing data into batches. These steps ensure that the data is in a suitable format and distribution for training and evaluation, ultimately leading to more accurate and efficient machine learning models."
      ]
    },
    {
      "cell_type": "code",
      "execution_count": null,
      "metadata": {
        "colab": {
          "base_uri": "https://localhost:8080/"
        },
        "id": "Pr9pPD1gt8wQ",
        "outputId": "7a221e2e-995d-4cde-b570-f18d6a84ae58"
      },
      "outputs": [],
      "source": [
        "train_datagen = ImageDataGenerator(rescale=1.0 / 255.0)\n",
        "validation_datagen = ImageDataGenerator(rescale=1.0 / 255.0)\n",
        "test_datagen = ImageDataGenerator(rescale=1.0 / 255.0)\n",
        "\n",
        "train_generator = train_datagen.flow_from_directory(\n",
        "    f\"{DATASET}/train\",\n",
        "    target_size=IMAGE_SIZE,\n",
        "    batch_size=BATCH_SIZE,\n",
        "    class_mode='binary',\n",
        "    shuffle=True\n",
        ")\n",
        "\n",
        "validation_generator = validation_datagen.flow_from_directory(\n",
        "    f\"{DATASET}/val\",\n",
        "    target_size=IMAGE_SIZE,\n",
        "    batch_size=BATCH_SIZE,\n",
        "    class_mode='binary',\n",
        ")\n",
        "\n",
        "test_generator = test_datagen.flow_from_directory(\n",
        "    f\"{DATASET}/test\",\n",
        "    target_size=IMAGE_SIZE,\n",
        "    batch_size=BATCH_SIZE,\n",
        "    class_mode='binary',\n",
        ")"
      ]
    },
    {
      "cell_type": "markdown",
      "metadata": {
        "id": "xj3t53gizIXY"
      },
      "source": [
        "### Build the model\n",
        "\n",
        "This code cell defines and builds a Convolutional Neural Network (CNN) model using the Keras library. CNNs are a class of deep learning models commonly used for image classification and computer vision tasks. The model architecture is relatively simple, consisting of convolutional layers, activation functions, and dense layers.\n",
        "\n",
        "> **Challenge**: Can you think of changes we could make that could improve our final result?"
      ]
    },
    {
      "cell_type": "code",
      "execution_count": null,
      "metadata": {
        "id": "6JQoWrVpDS9P"
      },
      "outputs": [],
      "source": [
        "from keras.models import Sequential\n",
        "from keras.layers import Conv2D\n",
        "from keras.layers import Activation, Flatten, Dense\n",
        "\n",
        "\n",
        "model = Sequential()\n",
        "model.add(Conv2D(32, (3, 3), input_shape=(150, 150, 3)))\n",
        "model.add(Activation('relu'))\n",
        "\n",
        "model.add(Flatten())\n",
        "model.add(Dense(64))\n",
        "model.add(Activation('relu'))\n",
        "\n",
        "model.add(Dense(2))\n",
        "model.add(Activation('sigmoid'))"
      ]
    },
    {
      "cell_type": "markdown",
      "metadata": {
        "id": "HY__Cz_t4acZ"
      },
      "source": [
        "This code cell compiles a deep learning model using the Keras library. Compilation is an essential step in preparing the model for training. During compilation, you specify various aspects of the training process, such as the optimizer, loss function, and evaluation metrics."
      ]
    },
    {
      "cell_type": "code",
      "execution_count": null,
      "metadata": {
        "id": "GIcfPoIgzKhn"
      },
      "outputs": [],
      "source": [
        "model.compile(optimizer='adam',\n",
        "              loss=tf.keras.losses.SparseCategoricalCrossentropy(\n",
        "                  from_logits=True),\n",
        "              metrics=['accuracy'])"
      ]
    },
    {
      "cell_type": "markdown",
      "metadata": {
        "id": "aLNbqJkP4cPq"
      },
      "source": [
        "### Training the model\n",
        "\n",
        "This code cell initiates the training of a deep learning model using the previously compiled model, training data generator, and validation data generator. It leverages the fit method in Keras to start the training process, and it also stores training history for later analysis and visualization.\n",
        "\n",
        "> **Note**: Training doesn't take long at all since we only have a toy dataset to work with. In real cases this can take hours or days to complete.\n",
        "\n",
        "> **Challenge**: Can you think of changes we could make that could speed up training?"
      ]
    },
    {
      "cell_type": "code",
      "execution_count": null,
      "metadata": {
        "colab": {
          "base_uri": "https://localhost:8080/"
        },
        "id": "zkukoXcXzRoK",
        "outputId": "c96e5a6c-5c6e-4150-b4c1-4c44f8fba842"
      },
      "outputs": [],
      "source": [
        "history = model.fit(\n",
        "    train_generator,\n",
        "    epochs=EPOCHS,\n",
        "    steps_per_epoch=len(train_generator),\n",
        "    validation_data=validation_generator,\n",
        "    validation_steps=len(validation_generator)\n",
        ")"
      ]
    },
    {
      "cell_type": "markdown",
      "metadata": {
        "id": "ja_63YXyznV7"
      },
      "source": [
        "### Evaluation\n",
        "\n",
        "This code cell is responsible for evaluating the performance of a trained deep learning model on a test dataset. It uses the evaluate method in Keras to compute the model's test loss and accuracy based on the test data generator."
      ]
    },
    {
      "cell_type": "code",
      "execution_count": null,
      "metadata": {
        "colab": {
          "base_uri": "https://localhost:8080/"
        },
        "id": "KrROu9JyzTjt",
        "outputId": "280152db-e703-492c-ff7d-484983be49b6"
      },
      "outputs": [],
      "source": [
        "test_loss, test_accuracy = model.evaluate(\n",
        "    test_generator,\n",
        "    steps=len(test_generator)\n",
        ")\n",
        "\n",
        "print('Test accuracy:', test_accuracy)\n",
        "print('Test Loss:', test_loss)"
      ]
    },
    {
      "cell_type": "markdown",
      "metadata": {
        "id": "9TxfhDZ00ZGA"
      },
      "source": [
        "# Part 2: Creating an MLOps pipeline\n",
        "\n",
        "At this point we have a typical notebook and we've proven that our model works. Let's go to production! This is where the real works starts. No AI-product or AI-project should be considered finished without having MLOps in place.\n",
        "\n",
        "MLOps bridges the gap between ML development and production deployment by automating and streamlining the deployment, monitoring, and management of ML models. This transition typically involves creating an MLOps pipeline.\n",
        "\n",
        "Continuous integration and continuous deployment (CI/CD) practices are often employed to ensure that updates and improvements to the model are seamlessly deployed into production while maintaining reliability and performance. This combination of ML development and MLOps practices enables organizations to develop, deploy, and maintain ML solutions efficiently and at scale.\n",
        "\n",
        "We split our notebook above into 4 main parts. Each will represent it's own component in our final pipeline:\n",
        "- preprocess\n",
        "- train\n",
        "- evaluate\n",
        "- deployment\n",
        "\n",
        "We'll use Azure to run our ML Pipeline, and to do so we need to authenticate ourselves. We'll do this in an interactive way, use your HOGENT account!"
      ]
    },
    {
      "cell_type": "code",
      "execution_count": null,
      "metadata": {
        "colab": {
          "base_uri": "https://localhost:8080/"
        },
        "id": "Op_xTUbZXnvi",
        "outputId": "96e21fe3-d841-494f-f217-3ae37bd725fb"
      },
      "outputs": [],
      "source": [
        "!az login"
      ]
    },
    {
      "cell_type": "markdown",
      "metadata": {
        "id": "32w6WHoe6DWr"
      },
      "source": [
        "This code cell sets up the configuration for using Azure Machine Learning services within a Jupyter Notebook. It uses the Azure SDK for Python and Azure Identity library to establish the necessary credentials and workspace information.\n",
        "\n",
        "\n",
        "In the context of Azure Machine Learning, a workspace is a fundamental concept that represents a container for organizing, managing, and tracking various machine learning assets and resources within the Azure cloud environment. Workspaces provide a collaborative and centralized platform for data scientists, machine learning engineers, and researchers to work together on machine learning projects.\n",
        "\n",
        "Fill the ID of your Azure subscription in the `SUBSCRIPTION_ID` variable. In your case, this is the Azure for Students subscription. You can find this under \"Subscriptions\" in the [Azure Portal](https://portal.azure.com).\n",
        "\n",
        "We also define a `RESOURCE_GROUP` and `WORKSPACE_NAME`:\n",
        "\n",
        "- `RESOURCE_GROUP`: the name of the resource group every Azure resource in this lab will be created in.\n",
        "- `WORKSPACE_NAME`: the name of the workspace the pipeline will be part of.\n",
        "\n",
        "You can choose any name you like, but it's okay to leave both as is."
      ]
    },
    {
      "cell_type": "code",
      "execution_count": null,
      "metadata": {
        "id": "Nx_86wOAUvHe"
      },
      "outputs": [],
      "source": [
        "from azure.ai.ml import MLClient\n",
        "from azure.identity import DefaultAzureCredential\n",
        "\n",
        "credential = DefaultAzureCredential()\n",
        "\n",
        "# TODO: fill in your subscription ID\n",
        "SUBSCRIPTION_ID = \"3103e99c-3bd0-4a81-aef9-9270f0d557d4\"\n",
        "\n",
        "# Leave these alone\n",
        "RESOURCE_GROUP_NAME = \"MLOps\"\n",
        "WORKSPACE_NAME = \"fruits\"\n",
        "AZURE_REGION = \"westeurope\""
      ]
    },
    {
      "cell_type": "markdown",
      "metadata": {
        "id": "CmHoV_x8lZF1"
      },
      "source": [
        "Let's first create a resource group:"
      ]
    },
    {
      "cell_type": "code",
      "execution_count": null,
      "metadata": {
        "colab": {
          "base_uri": "https://localhost:8080/"
        },
        "id": "_ufOZG7wlZF2",
        "outputId": "b3f9f476-541b-48ae-8a4f-3d1e2d74a140"
      },
      "outputs": [],
      "source": [
        "from azure.identity import AzureCliCredential\n",
        "from azure.mgmt.resource import ResourceManagementClient\n",
        "\n",
        "resource_client = ResourceManagementClient(credential, SUBSCRIPTION_ID)\n",
        "\n",
        "rg_result = resource_client.resource_groups.create_or_update(\n",
        "  RESOURCE_GROUP_NAME, { \"location\": AZURE_REGION }\n",
        ")\n",
        "\n",
        "print(f\"Provisioned resource group {rg_result.name} in the {rg_result.location} region\")"
      ]
    },
    {
      "cell_type": "markdown",
      "metadata": {
        "id": "2Lw2it-XlZF2"
      },
      "source": [
        "Now let's create an Azure Machine Learning client to connect to Azure Machine Learning services. We'll use this client to create and manage various Azure Machine Learning resources."
      ]
    },
    {
      "cell_type": "code",
      "execution_count": null,
      "metadata": {
        "colab": {
          "base_uri": "https://localhost:8080/"
        },
        "id": "HeYa4HA0lZF2",
        "outputId": "a54b817c-02ce-466d-e427-fe9767948ac6"
      },
      "outputs": [],
      "source": [
        "ml_client = MLClient(\n",
        "    credential=credential,\n",
        "    subscription_id=SUBSCRIPTION_ID,\n",
        "    resource_group_name=RESOURCE_GROUP_NAME,\n",
        ")"
      ]
    },
    {
      "cell_type": "markdown",
      "metadata": {
        "id": "HTFus-nxlZF2"
      },
      "source": [
        "Before you can run an Azure ML pipeline, you need a workspace. You can create a workspace using the Azure Portal, the Azure CLI, or the Azure ML SDK. In this case, we'll use the Azure ML SDK to create a workspace.\n",
        "\n",
        "This will print an URL where you can track the progress of the deployment in the Azure portal. It will also print some updates in this cell's output."
      ]
    },
    {
      "cell_type": "code",
      "execution_count": null,
      "metadata": {
        "colab": {
          "base_uri": "https://localhost:8080/"
        },
        "id": "SQDj1SS-lZF2",
        "outputId": "871e0fb4-de95-42f7-de06-7519e3cc0db2"
      },
      "outputs": [],
      "source": [
        "from azure.ai.ml.entities import Workspace\n",
        "import datetime\n",
        "\n",
        "ws_basic = Workspace(\n",
        "    name=WORKSPACE_NAME,\n",
        "    location=AZURE_REGION,\n",
        "    display_name=\"MLOps Fruits demo\"\n",
        ")\n",
        "\n",
        "ws_basic = ml_client.workspaces.begin_create(ws_basic).result()\n",
        "print(f\"Provisioned ML workspace with name {ws_basic.name} in region {ws_basic.location}\")"
      ]
    },
    {
      "cell_type": "markdown",
      "metadata": {
        "id": "T60BoF_lo1kO"
      },
      "source": [
        "Let's recreate our `MLClient` so it points to the created workspace."
      ]
    },
    {
      "cell_type": "code",
      "execution_count": null,
      "metadata": {
        "id": "B9dIjZE1o68a"
      },
      "outputs": [],
      "source": [
        "ml_client = MLClient(\n",
        "    credential=credential,\n",
        "    subscription_id=SUBSCRIPTION_ID,\n",
        "    resource_group_name=RESOURCE_GROUP_NAME,\n",
        "    workspace_name=WORKSPACE_NAME\n",
        ")"
      ]
    },
    {
      "cell_type": "markdown",
      "metadata": {
        "id": "baTsl0euYfv5"
      },
      "source": [
        "This code cell creates a directory structure within the project to organize the source code for various components of a machine learning pipeline. Proper organization of code and scripts is crucial for maintaining a structured and manageable ML project."
      ]
    },
    {
      "cell_type": "code",
      "execution_count": null,
      "metadata": {
        "id": "yEdrPZrU2kiW"
      },
      "outputs": [],
      "source": [
        "!mkdir -p components/preprocess/src components/train/src components/eval/src components/deploy/src"
      ]
    },
    {
      "cell_type": "markdown",
      "metadata": {
        "id": "cLpiraBh0x8m"
      },
      "source": [
        "### Preprocess component\n",
        "\n",
        "Machine learning pipelines often involve multiple steps, such as data preprocessing, model training, and evaluation. These steps can be organized and executed as components within the pipeline. One effective approach for defining and isolating these components is by using Docker containers. This method provides a consistent and reproducible environment for each step of the pipeline. But there are other ways to define components, such as using Python scripts.\n",
        "\n",
        "To define components using Docker containers, you'll need the following:\n",
        "\n",
        "- Requirements file: This file specifies the requirements that need to be installed for the Python code to run.\n",
        "- Dockerfile: This file specifies the environment for the component. It contains instructions for building a container image, including the base image, dependencies, and configuration settings.\n",
        "- YAML Definition: A YAML file is used to define the component within your machine learning pipeline. It describes how the component should be executed, including input and output data, environment settings, and execution commands.\n",
        "- Python Code: Python code is often used to execute the logic of the component. This code can include data preprocessing, model training, evaluation, or any other specific task related to the component's purpose.\n",
        "\n",
        "Our first component will contain the code we wrote in our notebook for the preprocessing steps.\n",
        "\n",
        "Let's create the `requirements.txt` file:\n"
      ]
    },
    {
      "cell_type": "code",
      "execution_count": null,
      "metadata": {
        "colab": {
          "base_uri": "https://localhost:8080/"
        },
        "id": "LiZK7-j7JKzC",
        "outputId": "8cd3d50c-91d3-4b3b-eca0-f9e355d0be00"
      },
      "outputs": [],
      "source": [
        "%%writefile components/preprocess/requirements.txt\n",
        "requests==2.31.0\n",
        "opencv-python-headless==4.8.0.76"
      ]
    },
    {
      "cell_type": "markdown",
      "metadata": {
        "id": "d9gqFbcp7gLf"
      },
      "source": [
        "Next, let's create the `Dockerfile` file:"
      ]
    },
    {
      "cell_type": "code",
      "execution_count": null,
      "metadata": {
        "colab": {
          "base_uri": "https://localhost:8080/"
        },
        "id": "crYuUoDG2RRT",
        "outputId": "5cd439d4-d00b-401d-b9c5-afc803b5de58"
      },
      "outputs": [],
      "source": [
        "%%writefile components/preprocess/Dockerfile\n",
        "FROM mcr.microsoft.com/azureml/openmpi4.1.0-ubuntu20.04\n",
        "\n",
        "COPY ./requirements.txt /requirements.txt\n",
        "\n",
        "RUN pip install -r requirements.txt\n",
        "\n",
        "COPY ./src /src\n",
        "\n",
        "CMD [\"python\", \"/src/main.py\"]"
      ]
    },
    {
      "cell_type": "markdown",
      "metadata": {
        "id": "5uQgAalH7j68"
      },
      "source": [
        "Next, we define our component in YAML:"
      ]
    },
    {
      "cell_type": "code",
      "execution_count": null,
      "metadata": {
        "colab": {
          "base_uri": "https://localhost:8080/"
        },
        "id": "vaKHQUtv13t6",
        "outputId": "ecd41ef3-0f48-4db1-a0c3-331795200c4a"
      },
      "outputs": [],
      "source": [
        "%%writefile components/preprocess/component.yaml\n",
        "$schema: https://azuremlschemas.azureedge.net/latest/commandComponent.schema.json\n",
        "type: command\n",
        "\n",
        "name: preprocess\n",
        "version: 1\n",
        "\n",
        "outputs:\n",
        "  training_data:\n",
        "    type: uri_folder\n",
        "  val_data:\n",
        "    type: uri_folder\n",
        "  test_data:\n",
        "    type: uri_folder\n",
        "\n",
        "code: ./src\n",
        "\n",
        "environment: azureml:mlops-preprocessing-docker-environment@latest\n",
        "\n",
        "command: >-\n",
        "  python main.py\n",
        "  --training_data ${{outputs.training_data}}\n",
        "  --val_data ${{outputs.val_data}}\n",
        "  --test_data ${{outputs.test_data}}"
      ]
    },
    {
      "cell_type": "markdown",
      "metadata": {
        "id": "0YXv_hpw7qNI"
      },
      "source": [
        "Lastly, we add the Python code:"
      ]
    },
    {
      "cell_type": "code",
      "execution_count": null,
      "metadata": {
        "colab": {
          "base_uri": "https://localhost:8080/"
        },
        "id": "UwrHS0VTzpHc",
        "outputId": "a565dae7-fb34-483e-b69c-6615f64d33e1"
      },
      "outputs": [],
      "source": [
        "%%writefile components/preprocess/src/main.py\n",
        "import argparse\n",
        "import glob\n",
        "import os\n",
        "import shutil\n",
        "\n",
        "import cv2\n",
        "import requests\n",
        "\n",
        "IMAGE_SIZE = (150, 150)\n",
        "\n",
        "\n",
        "def _download_from_list(list, type):\n",
        "    for i, img_url in enumerate(list):\n",
        "        response = requests.get(img_url)\n",
        "        response.raise_for_status()\n",
        "\n",
        "        ml_split = \"train\"\n",
        "        if i == 9:\n",
        "            ml_split = \"test\"\n",
        "        elif i == 8:\n",
        "            ml_split = \"val\"\n",
        "\n",
        "        with open(f\"dataset/{ml_split}/{type}s/{type}{i}.jpeg\", \"wb\") as file:\n",
        "            file.write(response.content)\n",
        "\n",
        "\n",
        "def _get_dataset():\n",
        "    for path in [\n",
        "        \"dataset/train/apples\",\n",
        "        \"dataset/val/apples\",\n",
        "        \"dataset/test/apples\",\n",
        "        \"dataset/train/oranges\",\n",
        "        \"dataset/val/oranges\",\n",
        "        \"dataset/test/oranges\",\n",
        "    ]:\n",
        "        os.makedirs(path)\n",
        "\n",
        "    _download_from_list(\n",
        "        [\n",
        "            \"https://images.unsplash.com/photo-1570913149827-d2ac84ab3f9a?ixlib=rb-4.0.3&ixid=M3wxMjA3fDB8MHxleHBsb3JlLWZlZWR8MXx8fGVufDB8fHx8fA%3D%3D&w=1000&q=80\",\n",
        "            \"https://thumbs.dreamstime.com/b/red-apple-isolated-clipping-path-19130134.jpg\",\n",
        "            \"https://images.unsplash.com/photo-1610397962076-02407a169a5b?ixlib=rb-4.0.3&ixid=M3wxMjA3fDB8MHxleHBsb3JlLWZlZWR8Mnx8fGVufDB8fHx8fA%3D%3D&w=1000&q=80\",\n",
        "            \"https://images.unsplash.com/photo-1568702846914-96b305d2aaeb?ixlib=rb-4.0.3&ixid=M3wxMjA3fDB8MHxwaG90by1wYWdlfHx8fGVufDB8fHx8fA%3D%3D&auto=format&fit=crop&w=2940&q=80\",\n",
        "            \"https://images.unsplash.com/photo-1576179635662-9d1983e97e1e?ixlib=rb-4.0.3&ixid=M3wxMjA3fDB8MHxwaG90by1wYWdlfHx8fGVufDB8fHx8fA%3D%3D&auto=format&fit=crop&w=2787&q=80\",\n",
        "            \"https://domf5oio6qrcr.cloudfront.net/medialibrary/11525/0a5ae820-7051-4495-bcca-61bf02897472.jpg\",\n",
        "            \"https://img.freepik.com/free-photo/two-red-apples-isolated-white_114579-73124.jpg\",\n",
        "            \"https://t3.ftcdn.net/jpg/01/09/81/46/360_F_109814626_y5dGATGj8h3pMz9tq1HNRfiuXR12uFCj.jpg\",\n",
        "            \"https://i.pinimg.com/originals/e7/4e/78/e74e782a805bf6f2cc8f178a6063f9d7.jpg\",\n",
        "            \"https://images.unsplash.com/photo-1584306670957-acf935f5033c?ixlib=rb-4.0.3&ixid=M3wxMjA3fDB8MHxleHBsb3JlLWZlZWR8OHx8fGVufDB8fHx8fA%3D%3D&w=1000&q=80\",\n",
        "        ],\n",
        "        \"apple\",\n",
        "    )\n",
        "\n",
        "    _download_from_list(\n",
        "        [\n",
        "            \"https://plus.unsplash.com/premium_photo-1671013032586-3e9a5c49ce3c?ixlib=rb-4.0.3&ixid=M3wxMjA3fDB8MHxwaG90by1wYWdlfHx8fGVufDB8fHx8fA%3D%3D&auto=format&fit=crop&w=2787&q=80\",\n",
        "            \"https://images.unsplash.com/photo-1547514701-42782101795e?ixlib=rb-4.0.3&ixid=M3wxMjA3fDB8MHxwaG90by1wYWdlfHx8fGVufDB8fHx8fA%3D%3D&auto=format&fit=crop&w=2787&q=80\",\n",
        "            \"https://images.unsplash.com/photo-1514936477380-5ea603b9a1ca?ixlib=rb-4.0.3&ixid=M3wxMjA3fDB8MHxwaG90by1wYWdlfHx8fGVufDB8fHx8fA%3D%3D&auto=format&fit=crop&w=2835&q=80\",\n",
        "            \"https://img.freepik.com/free-photo/orange-white-white_144627-16571.jpg?w=2000\",\n",
        "            \"https://encrypted-tbn0.gstatic.com/images?q=tbn:ANd9GcRWbb0dC-vAS3Mqx6l_F6uDkUSWFtjHJ8v-MA&usqp=CAU\",\n",
        "            \"https://static3.depositphotos.com/1000955/120/i/450/depositphotos_1207359-stock-photo-orange.jpg\",\n",
        "            \"https://publish.purewow.net/wp-content/uploads/sites/2/2021/02/types-of-oranges-navel-oranges.jpg?fit=680%2C489\",\n",
        "            \"https://encrypted-tbn0.gstatic.com/images?q=tbn:ANd9GcQnS7lPkp0iYsdVraHtEdmNMQ4g7CFNXGZIuFPyNDZamQG29q6K2mLKo1MbSeYfn8NdWoM&usqp=CAU\",\n",
        "            \"https://encrypted-tbn0.gstatic.com/images?q=tbn:ANd9GcSgA7xpOViT-HeWGzj7f3-rWgX9Fu-dabTj4g&usqp=CAU\",\n",
        "            \"https://thumbs.dreamstime.com/b/orange-fruit-green-leaves-isolated-white-background-clipping-path-full-depth-field-fresh-177726692.jpg\",\n",
        "        ],\n",
        "        \"orange\",\n",
        "    )\n",
        "\n",
        "\n",
        "def component(training_data, val_data, test_data):\n",
        "    _get_dataset()\n",
        "\n",
        "    for img_path in glob.glob(\"dataset/*/*/*.jpeg\"):\n",
        "        img = cv2.imread(img_path)\n",
        "        img = cv2.resize(img, IMAGE_SIZE)\n",
        "        img = img.astype(\"float32\") / 255.0\n",
        "        cv2.imwrite(img_path, img)\n",
        "\n",
        "    shutil.copytree(\"dataset/train\", f\"{training_data}/dataset\")\n",
        "    shutil.copytree(\"dataset/val\", f\"{val_data}/dataset\")\n",
        "    shutil.copytree(\"dataset/test\", f\"{test_data}/dataset\")\n",
        "\n",
        "\n",
        "if __name__ == \"__main__\":\n",
        "    parser = argparse.ArgumentParser()\n",
        "    parser.add_argument(\"--training_data\")\n",
        "    parser.add_argument(\"--val_data\")\n",
        "    parser.add_argument(\"--test_data\")\n",
        "    args = parser.parse_args()\n",
        "\n",
        "    component(args.training_data, args.val_data, args.test_data)\n"
      ]
    },
    {
      "cell_type": "markdown",
      "metadata": {
        "id": "21djfYwz8FIj"
      },
      "source": [
        "We create a custom Docker environment in Azure Machine Learning using the Azure Machine Learning SDK for Python. A custom environment is a specific configuration that defines the dependencies and settings required for executing machine learning components within a pipeline. In this case, the environment is set up for data preprocessing tasks."
      ]
    },
    {
      "cell_type": "code",
      "execution_count": null,
      "metadata": {
        "colab": {
          "base_uri": "https://localhost:8080/"
        },
        "id": "x2JzicGV2tgC",
        "outputId": "c2e20d5d-95d9-4c9f-bba4-4fe1e4b32564"
      },
      "outputs": [],
      "source": [
        "from azure.ai.ml import MLClient\n",
        "from azure.ai.ml.entities import BuildContext, Environment\n",
        "\n",
        "environment = Environment(\n",
        "    build=BuildContext(path=f\"./components/preprocess\"),\n",
        "    name=f\"mlops-preprocessing-docker-environment\",\n",
        "    description=f\"Custom environment used at HoGent for preprocessing created from a Docker context.\",\n",
        ")\n",
        "\n",
        "ml_client.environments.create_or_update(environment)"
      ]
    },
    {
      "cell_type": "markdown",
      "metadata": {
        "id": "sqqePwlr63DE"
      },
      "source": [
        "### Train component\n",
        "\n",
        "Our next component will contain the same code as we had in our notebook for training the model.\n",
        "\n",
        "First, we create the `requirements.txt` file:"
      ]
    },
    {
      "cell_type": "code",
      "execution_count": null,
      "metadata": {
        "colab": {
          "base_uri": "https://localhost:8080/"
        },
        "id": "I0StI3reGni_",
        "outputId": "9e096fb0-726b-4092-b1d0-94c895c6a8b6"
      },
      "outputs": [],
      "source": [
        "%%writefile components/train/requirements.txt\n",
        "tensorflow==2.13.0\n",
        "scipy==1.10.1\n",
        "Pillow==9.4.0\n",
        "mlflow==2.7.0\n",
        "azureml-mlflow==1.53.0"
      ]
    },
    {
      "cell_type": "markdown",
      "metadata": {
        "id": "FjeL7JyD8jCA"
      },
      "source": [
        "Next, let's create the `Dockerfile` file:"
      ]
    },
    {
      "cell_type": "code",
      "execution_count": null,
      "metadata": {
        "colab": {
          "base_uri": "https://localhost:8080/"
        },
        "id": "2Yhk7pfO62E1",
        "outputId": "4b5766a4-3f17-45d8-cdfd-8a7aea9d4b62"
      },
      "outputs": [],
      "source": [
        "%%writefile components/train/Dockerfile\n",
        "FROM mcr.microsoft.com/azureml/openmpi4.1.0-ubuntu20.04\n",
        "\n",
        "COPY ./requirements.txt requirements.txt\n",
        "\n",
        "RUN pip install -r requirements.txt\n",
        "\n",
        "COPY ./src /src\n",
        "\n",
        "CMD [\"python\", \"/src/main.py\"]"
      ]
    },
    {
      "cell_type": "markdown",
      "metadata": {
        "id": "rzg3t2Hq8nta"
      },
      "source": [
        "Next, we define our component in YAML:"
      ]
    },
    {
      "cell_type": "code",
      "execution_count": null,
      "metadata": {
        "colab": {
          "base_uri": "https://localhost:8080/"
        },
        "id": "pVchH88n7Pcl",
        "outputId": "5e2347d4-be8e-49f4-9298-8d5e00952a2f"
      },
      "outputs": [],
      "source": [
        "%%writefile components/train/component.yaml\n",
        "$schema: https://azuremlschemas.azureedge.net/latest/commandComponent.schema.json\n",
        "type: command\n",
        "\n",
        "name: train\n",
        "version: 1\n",
        "\n",
        "inputs:\n",
        "  training_data:\n",
        "    type: uri_folder\n",
        "  val_data:\n",
        "    type: uri_folder\n",
        "outputs:\n",
        "  model_folder:\n",
        "    type: uri_folder\n",
        "\n",
        "code: ./src\n",
        "\n",
        "environment: azureml:mlops-train-docker-environment@latest\n",
        "\n",
        "command: >-\n",
        "  python main.py\n",
        "  --training_data ${{inputs.training_data}}\n",
        "  --val_data ${{inputs.val_data}}\n",
        "  --model_folder ${{outputs.model_folder}}"
      ]
    },
    {
      "cell_type": "markdown",
      "metadata": {
        "id": "yLReRNh18upz"
      },
      "source": [
        "Lastly, we add the Python code:"
      ]
    },
    {
      "cell_type": "code",
      "execution_count": null,
      "metadata": {
        "colab": {
          "base_uri": "https://localhost:8080/"
        },
        "id": "OIw6cYfU7rlh",
        "outputId": "1e0ac0cc-7243-46c6-86b3-0dc6776aa28a"
      },
      "outputs": [],
      "source": [
        "%%writefile components/train/src/main.py\n",
        "import argparse\n",
        "\n",
        "import mlflow\n",
        "import mlflow.keras\n",
        "import tensorflow as tf\n",
        "from keras.layers import Activation, Conv2D, Dense, Flatten\n",
        "from keras.models import Sequential\n",
        "from tensorflow.keras.preprocessing.image import ImageDataGenerator\n",
        "\n",
        "BATCH_SIZE = 8\n",
        "EPOCHS = 10\n",
        "\n",
        "\n",
        "def _build_model():\n",
        "    model = Sequential()\n",
        "    model.add(Conv2D(32, (3, 3), input_shape=(150, 150, 3)))\n",
        "    model.add(Activation(\"relu\"))\n",
        "\n",
        "    model.add(Flatten())\n",
        "    model.add(Dense(64))\n",
        "    model.add(Activation(\"relu\"))\n",
        "\n",
        "    model.add(Dense(2))\n",
        "    model.add(Activation(\"sigmoid\"))\n",
        "\n",
        "    return model\n",
        "\n",
        "\n",
        "def _load_data(training_data, val_data):\n",
        "    train_datagen = ImageDataGenerator()\n",
        "    validation_datagen = ImageDataGenerator()\n",
        "\n",
        "    train_generator = train_datagen.flow_from_directory(\n",
        "        f\"{training_data}/dataset\",\n",
        "        target_size=(150, 150),\n",
        "        batch_size=BATCH_SIZE,\n",
        "        class_mode=\"binary\",\n",
        "        shuffle=True,\n",
        "    )\n",
        "\n",
        "    validation_generator = validation_datagen.flow_from_directory(\n",
        "        f\"{val_data}/dataset\",\n",
        "        target_size=(150, 150),\n",
        "        batch_size=BATCH_SIZE,\n",
        "        class_mode=\"binary\",\n",
        "    )\n",
        "\n",
        "    return train_generator, validation_generator\n",
        "\n",
        "\n",
        "def component(training_data, val_data, model_file):\n",
        "    train_generator, validation_generator = _load_data(training_data, val_data)\n",
        "\n",
        "    model = _build_model()\n",
        "\n",
        "    model.compile(\n",
        "        optimizer=\"adam\",\n",
        "        loss=tf.keras.losses.SparseCategoricalCrossentropy(from_logits=True),\n",
        "        metrics=[\"accuracy\"],\n",
        "    )\n",
        "\n",
        "    mlflow.keras.autolog()\n",
        "\n",
        "    _ = model.fit(\n",
        "        train_generator,\n",
        "        epochs=EPOCHS,\n",
        "        steps_per_epoch=len(train_generator),\n",
        "        validation_data=validation_generator,\n",
        "        validation_steps=len(validation_generator),\n",
        "    )\n",
        "\n",
        "    model.save(model_file)\n",
        "\n",
        "\n",
        "if __name__ == \"__main__\":\n",
        "    parser = argparse.ArgumentParser()\n",
        "    parser.add_argument(\"--training_data\")\n",
        "    parser.add_argument(\"--val_data\")\n",
        "    parser.add_argument(\"--model_folder\")\n",
        "    args = parser.parse_args()\n",
        "\n",
        "    component(args.training_data, args.val_data, args.model_folder)\n"
      ]
    },
    {
      "cell_type": "markdown",
      "metadata": {
        "id": "NTbvzbTE9aUF"
      },
      "source": [
        "The files above let us create a new custom environment for training:"
      ]
    },
    {
      "cell_type": "code",
      "execution_count": null,
      "metadata": {
        "colab": {
          "base_uri": "https://localhost:8080/"
        },
        "id": "ajSRrZkm8cb4",
        "outputId": "61cba54e-f748-4a5f-f6c7-d414831f19e9"
      },
      "outputs": [],
      "source": [
        "environment = Environment(\n",
        "    build=BuildContext(path=f\"./components/train\"),\n",
        "    name=f\"mlops-train-docker-environment\",\n",
        "    description=f\"Custom environment used at HoGent for training created from a Docker context.\",\n",
        ")\n",
        "\n",
        "ml_client.environments.create_or_update(environment)"
      ]
    },
    {
      "cell_type": "markdown",
      "metadata": {
        "id": "TgHGrbvKTcn8"
      },
      "source": [
        "**What's MLFlow?**\n",
        "\n",
        "MLFlow is a popular open-source platform designed to streamline the end-to-end machine learning lifecycle. It is widely used in the data science and machine learning community for several key reasons. MLFlow provides a cohesive and organized environment for tracking experiments, managing machine learning projects, and sharing results. Its robust capabilities encompass experiment tracking, model versioning, reproducibility, and deployment. With MLFlow, data scientists and engineers can efficiently experiment with various algorithms and hyperparameters, maintain a comprehensive record of their work, and ensure reproducibility in model development. Additionally, MLFlow simplifies the process of packaging and deploying models into production environments, making it a valuable tool for bridging the gap between experimentation and deployment in machine learning projects.\n",
        "\n",
        "Since we're using a well-known framework like Keras on a well-known Cloud (Azure), we can rely on the `autolog` functionality (see `mlflow.keras.autolog()` in `component` function above). You can reed more about this here: <https://learn.microsoft.com/en-us/azure/machine-learning/how-to-log-mlflow-models?view=azureml-api-2&tabs=wrapper#logging-models-using-autolog>.\n",
        "\n",
        "It's also possible to log images, metrics and other artifacts manually."
      ]
    },
    {
      "cell_type": "markdown",
      "metadata": {
        "id": "C90ls7It8TsP"
      },
      "source": [
        "### Eval component\n",
        "\n",
        "The second last component of our pipeline will contain the same code as we had in our notebook for evaluating the model.\n",
        "\n",
        "First, we create the `requirements.txt` file:"
      ]
    },
    {
      "cell_type": "code",
      "execution_count": null,
      "metadata": {
        "colab": {
          "base_uri": "https://localhost:8080/"
        },
        "id": "iEVb4sR3Uacr",
        "outputId": "c98ef932-e57f-44ae-d400-ebe6637a237a"
      },
      "outputs": [],
      "source": [
        "%%writefile components/eval/requirements.txt\n",
        "tensorflow==2.13.0\n",
        "scipy==1.10.1\n",
        "Pillow==9.4.0\n",
        "mlflow==2.7.0\n",
        "azureml-mlflow==1.53.0"
      ]
    },
    {
      "cell_type": "markdown",
      "metadata": {
        "id": "1XQuXpoE8qPA"
      },
      "source": [
        "Next, we create the `Dockerfile`:"
      ]
    },
    {
      "cell_type": "code",
      "execution_count": null,
      "metadata": {
        "colab": {
          "base_uri": "https://localhost:8080/"
        },
        "id": "v2_FkemE8Cau",
        "outputId": "df4816d2-5a80-41de-f2c8-25ce50b7f4a9"
      },
      "outputs": [],
      "source": [
        "%%writefile components/eval/Dockerfile\n",
        "FROM mcr.microsoft.com/azureml/openmpi4.1.0-ubuntu20.04\n",
        "\n",
        "COPY ./requirements.txt requirements.txt\n",
        "\n",
        "RUN pip install -r requirements.txt\n",
        "\n",
        "COPY ./src /src\n",
        "\n",
        "CMD [\"python\", \"/src/main.py\"]"
      ]
    },
    {
      "cell_type": "markdown",
      "metadata": {
        "id": "PG8bth_-8pX0"
      },
      "source": [
        "Next, we define our component in YAML:"
      ]
    },
    {
      "cell_type": "code",
      "execution_count": null,
      "metadata": {
        "colab": {
          "base_uri": "https://localhost:8080/"
        },
        "id": "GQzTze3j8CPC",
        "outputId": "90605586-1f0a-4d68-8037-3d16296b7d59"
      },
      "outputs": [],
      "source": [
        "%%writefile components/eval/component.yaml\n",
        "$schema: https://azuremlschemas.azureedge.net/latest/commandComponent.schema.json\n",
        "type: command\n",
        "\n",
        "name: eval\n",
        "version: 1\n",
        "\n",
        "inputs:\n",
        "  test_data:\n",
        "    type: uri_folder\n",
        "  model_folder:\n",
        "    type: uri_folder\n",
        "\n",
        "code: ./src\n",
        "\n",
        "environment: azureml:mlops-eval-docker-environment@latest\n",
        "\n",
        "command: >-\n",
        "  python main.py\n",
        "  --test_data ${{inputs.test_data}}\n",
        "  --model_folder ${{inputs.model_folder}}"
      ]
    },
    {
      "cell_type": "markdown",
      "metadata": {
        "id": "QBsqVSWW8q-5"
      },
      "source": [
        "Lastly, we add the Python code:"
      ]
    },
    {
      "cell_type": "code",
      "execution_count": null,
      "metadata": {
        "colab": {
          "base_uri": "https://localhost:8080/"
        },
        "id": "dgNdD9sn8v4i",
        "outputId": "d084e683-9c8c-4e68-92c6-1430a073008d"
      },
      "outputs": [],
      "source": [
        "%%writefile components/eval/src/main.py\n",
        "import argparse\n",
        "\n",
        "import mlflow\n",
        "import mlflow.keras\n",
        "import tensorflow as tf\n",
        "from tensorflow.keras.preprocessing.image import ImageDataGenerator\n",
        "\n",
        "BATCH_SIZE = 8\n",
        "\n",
        "\n",
        "def component(test_data, model_folder):\n",
        "    test_datagen = ImageDataGenerator(rescale=1.0 / 255.0)\n",
        "\n",
        "    test_generator = test_datagen.flow_from_directory(\n",
        "        f\"{test_data}/dataset\",\n",
        "        target_size=(150, 150),\n",
        "        batch_size=BATCH_SIZE,\n",
        "        class_mode=\"binary\",\n",
        "    )\n",
        "\n",
        "    mlflow.keras.autolog()\n",
        "\n",
        "    model = tf.keras.models.load_model(model_folder)\n",
        "\n",
        "    test_loss, test_accuracy = model.evaluate(test_generator, steps=len(test_generator))\n",
        "\n",
        "\n",
        "if __name__ == \"__main__\":\n",
        "    parser = argparse.ArgumentParser()\n",
        "    parser.add_argument(\"--test_data\")\n",
        "    parser.add_argument(\"--model_folder\")\n",
        "    args = parser.parse_args()\n",
        "\n",
        "    component(args.test_data, args.model_folder)\n"
      ]
    },
    {
      "cell_type": "markdown",
      "metadata": {
        "id": "WhUMb7HO9vKt"
      },
      "source": [
        "The files above let us create a new custom Environment for evaluation:"
      ]
    },
    {
      "cell_type": "code",
      "execution_count": null,
      "metadata": {
        "colab": {
          "base_uri": "https://localhost:8080/"
        },
        "id": "v17-cUdI8CVR",
        "outputId": "023226ec-da59-49fa-e44b-e0dc5956efe0"
      },
      "outputs": [],
      "source": [
        "environment = Environment(\n",
        "    build=BuildContext(path=f\"./components/eval\"),\n",
        "    name=f\"mlops-eval-docker-environment\",\n",
        "    description=f\"Custom environment used at HoGent for evaluation created from a Docker context.\",\n",
        ")\n",
        "\n",
        "ml_client.environments.create_or_update(environment)"
      ]
    },
    {
      "cell_type": "markdown",
      "metadata": {
        "id": "i3jSmdzplZGD"
      },
      "source": [
        "### Deploy component\n",
        "\n",
        "TODO: deploy component\n",
        "\n",
        "The last component of our pipeline will involve deploying the model in the Azure Machine Learning environment.\n",
        "\n",
        "First, we create the `requirements.txt` file:"
      ]
    },
    {
      "cell_type": "code",
      "execution_count": null,
      "metadata": {
        "colab": {
          "base_uri": "https://localhost:8080/"
        },
        "id": "J9ttQFIGce53",
        "outputId": "d2432ff8-03fb-47c4-c163-c73d2b41c31f"
      },
      "outputs": [],
      "source": [
        "%%writefile components/deploy/requirements.txt\n",
        "azureml-core==1.53.0\n",
        "azure-ai-ml==1.10.1"
      ]
    },
    {
      "cell_type": "markdown",
      "metadata": {
        "id": "CJwGAouxce53"
      },
      "source": [
        "Next, we create the `Dockerfile`:"
      ]
    },
    {
      "cell_type": "code",
      "execution_count": null,
      "metadata": {
        "colab": {
          "base_uri": "https://localhost:8080/"
        },
        "id": "3GWaSu3Ece53",
        "outputId": "cc44b2d6-ab80-4dae-886b-cf6a03f1ddb6"
      },
      "outputs": [],
      "source": [
        "%%writefile components/deploy/Dockerfile\n",
        "FROM mcr.microsoft.com/azureml/openmpi4.1.0-ubuntu20.04\n",
        "\n",
        "COPY ./requirements.txt requirements.txt\n",
        "\n",
        "RUN pip install -r requirements.txt\n",
        "\n",
        "COPY ./src /src\n",
        "\n",
        "CMD [\"python\", \"/src/main.py\"]"
      ]
    },
    {
      "cell_type": "markdown",
      "metadata": {
        "id": "2e3qmGZ7ce53"
      },
      "source": [
        "Next, we define our component in YAML:"
      ]
    },
    {
      "cell_type": "code",
      "execution_count": null,
      "metadata": {
        "colab": {
          "base_uri": "https://localhost:8080/"
        },
        "id": "7-nOerzSce53",
        "outputId": "d807b388-2809-4fe3-a49d-0d889894ea81"
      },
      "outputs": [],
      "source": [
        "%%writefile components/deploy/component.yaml\n",
        "$schema: https://azuremlschemas.azureedge.net/latest/commandComponent.schema.json\n",
        "type: command\n",
        "\n",
        "name: deploy\n",
        "version: 1\n",
        "\n",
        "inputs:\n",
        "  model_folder:\n",
        "    type: uri_folder\n",
        "\n",
        "code: ./src\n",
        "\n",
        "environment: azureml:mlops-deploy-docker-environment@latest\n",
        "\n",
        "command: >-\n",
        "  python main.py\n",
        "  --model_folder ${{inputs.model_folder}}"
      ]
    },
    {
      "cell_type": "markdown",
      "metadata": {
        "id": "CfRSVOLRce53"
      },
      "source": [
        "Lastly, we add the Python code:"
      ]
    },
    {
      "cell_type": "code",
      "execution_count": null,
      "metadata": {
        "colab": {
          "base_uri": "https://localhost:8080/"
        },
        "id": "QQaFtrVsce54",
        "outputId": "0136175e-c159-4e44-9da9-931aba618745"
      },
      "outputs": [],
      "source": [
        "%%writefile components/deploy/src/main.py\n",
        "from azureml.core.model import Model\n",
        "from azureml.core.run import Run, _OfflineRun\n",
        "from azureml.core import Workspace\n",
        "from azure.ai.ml.entities import ManagedOnlineEndpoint\n",
        "import argparse\n",
        "import uuid\n",
        "\n",
        "\n",
        "def component(model_folder):\n",
        "    run = Run.get_context()\n",
        "    ws = Workspace.from_config() if type(run) == _OfflineRun else run.experiment.workspace\n",
        "\n",
        "    model = Model.register(\n",
        "        workspace=ws,\n",
        "        model_path=args.model_folder,\n",
        "        model_name=\"Fruits\"\n",
        "    )\n",
        "\n",
        "    # Create a unique name for the endpoint\n",
        "    online_endpoint_name = \"mlops-fruits-endpoint-\" + str(uuid.uuid4())[:8]\n",
        "\n",
        "    # define an online endpoint\n",
        "    endpoint = ManagedOnlineEndpoint(\n",
        "        name=online_endpoint_name,\n",
        "        auth_mode=\"key\",\n",
        "    )\n",
        "\n",
        "    # create the online endpoint\n",
        "    # expect the endpoint to take approximately 2 minutes.\n",
        "    endpoint = ml_client.online_endpoints.begin_create_or_update(endpoint).result()\n",
        "\n",
        "    endpoint = ml_client.online_endpoints.get(name=online_endpoint_name)\n",
        "\n",
        "    print(\n",
        "        f'Endpoint \"{endpoint.name}\" with provisioning state \"{endpoint.provisioning_state}\" is retrieved'\n",
        "    )\n",
        "\n",
        "\n",
        "if __name__ == \"__main__\":\n",
        "    parser = argparse.ArgumentParser()\n",
        "    parser.add_argument(\"--model_folder\", required=True)\n",
        "    args = parser.parse_args()\n",
        "\n",
        "    component(args.model_folder)"
      ]
    },
    {
      "cell_type": "markdown",
      "metadata": {
        "id": "Bo7mI9YBZgVM"
      },
      "source": [
        "The files above let us create a new custom Environment for deployment:"
      ]
    },
    {
      "cell_type": "code",
      "execution_count": null,
      "metadata": {
        "colab": {
          "base_uri": "https://localhost:8080/"
        },
        "id": "mYyh3I7rZiha",
        "outputId": "11c47ae0-12da-409a-8e05-e4798e7b1a86"
      },
      "outputs": [],
      "source": [
        "environment = Environment(\n",
        "    build=BuildContext(path=f\"./components/deploy\"),\n",
        "    name=f\"mlops-deploy-docker-environment\",\n",
        "    description=f\"Custom environment used at HoGent for deployment created from a Docker context.\",\n",
        ")\n",
        "\n",
        "ml_client.environments.create_or_update(environment)"
      ]
    },
    {
      "cell_type": "markdown",
      "metadata": {
        "id": "sXB5a1P-aBLW"
      },
      "source": [
        "### Building the pipeline\n",
        "\n",
        "This code cell defines a machine learning pipeline using the Azure Machine Learning SDK for Python. A machine learning pipeline is a sequence of data processing and model training steps organized in a structured manner. In this example, the pipeline is named \"MLOps Fruits Pipeline\" and consists of three components: preprocessing, training, and evaluation.\n",
        "\n"
      ]
    },
    {
      "cell_type": "code",
      "execution_count": null,
      "metadata": {
        "id": "eBousF4RapGZ"
      },
      "outputs": [],
      "source": [
        "from azure.ai.ml import dsl, load_component\n",
        "\n",
        "# Load your YAML-based components below.\n",
        "preprocess = load_component(source=\"components/preprocess/component.yaml\")\n",
        "train = load_component(source=\"components/train/component.yaml\")\n",
        "eval = load_component(source=\"components/eval/component.yaml\")\n",
        "deploy = load_component(source=\"components/deploy/component.yaml\")\n",
        "\n",
        "\n",
        "@dsl.pipeline(display_name=\"MLOps Fruits Pipeline\", default_compute=\"serverless\")\n",
        "def mlops_pipeline():\n",
        "\n",
        "    preprocess_step = preprocess()\n",
        "\n",
        "    training_step = train(\n",
        "        training_data=preprocess_step.outputs.training_data,\n",
        "        val_data=preprocess_step.outputs.val_data\n",
        "    )\n",
        "\n",
        "    _ = eval(\n",
        "        test_data=preprocess_step.outputs.test_data,\n",
        "        model_folder=training_step.outputs.model_folder\n",
        "    )\n",
        "\n",
        "    deploy_step = deploy(\n",
        "        model_folder=training_step.outputs.model_folder\n",
        "    )\n",
        "\n",
        "    return"
      ]
    },
    {
      "cell_type": "markdown",
      "metadata": {
        "id": "1xRwD_VQ-ZLh"
      },
      "source": [
        "This code cell demonstrates how to run a previously defined machine learning pipeline within Azure Machine Learning. The pipeline, named \"MLOps Fruits Pipeline\", is submitted as a job to be executed in your Azure Machine Learning workspace. This allows you to automate and orchestrate the defined data preprocessing, training, and evaluation tasks.\n",
        "\n",
        "While this cell is running, continue reading below this cell. It may take a while before the entire pipeline is finished, up to 15 minutes is no exception."
      ]
    },
    {
      "cell_type": "code",
      "execution_count": null,
      "metadata": {
        "colab": {
          "base_uri": "https://localhost:8080/"
        },
        "id": "f1-_eyJ4cr4h",
        "outputId": "cab7d4ef-64a6-41f2-89a5-5c1f2dcd17e8"
      },
      "outputs": [],
      "source": [
        "pipeline = mlops_pipeline()\n",
        "\n",
        "pipeline_job = ml_client.jobs.create_or_update(\n",
        "    pipeline,\n",
        "    experiment_name=\"mlops_experiment\",\n",
        ")\n",
        "\n",
        "ml_client.jobs.stream(pipeline_job.name)"
      ]
    },
    {
      "cell_type": "markdown",
      "metadata": {
        "id": "gHcMjx-k-wZl"
      },
      "source": [
        "Running this machine learning pipeline successfully involves executing a series of orchestrated steps, as defined in the \"MLOps Fruits Pipeline\". First, ensure that your Azure Machine Learning workspace is properly configured and that you have defined the necessary components, including preprocessing, training, evaluation and deployment steps. Modify the experiment name as needed to organize your job runs effectively. Then, execute the code cell to submit the pipeline as a job. Monitor the job's progress and logs using the `ml_client.jobs.stream` function to ensure that each step is completed without errors. Successful execution of this pipeline will result in the seamless processing of data, model training, evaluation and deployment, with outputs and artifacts generated as specified. Careful configuration, validation, and monitoring are key to achieving successful and reproducible machine learning outcomes using Azure Machine Learning.\n",
        "\n",
        "If everything went well you should have a similar view to this one in the [Azure ML Studio](https://ml.azure.com/):\n",
        "\n",
        "TODO: update image\n",
        "\n",
        "![Visualization of the pipeline](data:image/png;base64,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)"
      ]
    },
    {
      "cell_type": "markdown",
      "metadata": {
        "id": "OooPVzvHSPyx"
      },
      "source": [
        "By clicking on one of these components you get to see more details. This can come in handy when in the future, you want to look back to know what happend and why.\n",
        "\n",
        "Some of the things you can look at are:\n",
        "- What compute was used\n",
        "- How long it took to run this component\n",
        "- The logged artifacts (files, metrics, models, ...)\n",
        "\n",
        "When we look at the metrics we logged (or MLFlow logged automatically for us), we get to see graphs without any additional effort. These artifacts are stored indefinitely, so this is a powerful logging tool.\n",
        "\n",
        "![Screenshot 2023-09-16 at 16.00.20.png](data:image/png;base64,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)\n",
        "\n"
      ]
    },
    {
      "cell_type": "markdown",
      "metadata": {
        "id": "MCTMw-nK8C_v"
      },
      "source": [
        "## Possible extensions\n",
        "\n",
        "- Can you make the basic model above better? Note that better doesn't just mean scoring higher on this dataset. It means that the model is more robust and can generalize better to unseen data. You could try one or more of the following:\n",
        "  - Create a better dataset  \n",
        "  - Add more layers\n",
        "  - Use transfer learning\n",
        "  - Use hyperparameter turning\n",
        "  - Data augmentation\n",
        "  - ...\n",
        "- Can you modify the components/pipeline so that you can choose the amount of epochs the model trains for?\n",
        "- Can you modify the pipeline so that the train component is ran on specialized hardware?\n",
        "- Can you add a component that:\n",
        "  - compares with a certain threshold and deploys if the score is higher than the threshold\n",
        "  - optimizes the model for edge cases"
      ]
    }
  ],
  "metadata": {
    "colab": {
      "collapsed_sections": [
        "wUuuaR0szzhX"
      ],
      "provenance": []
    },
    "kernelspec": {
      "display_name": "Python 3",
      "name": "python3"
    },
    "language_info": {
      "name": "python"
    }
  },
  "nbformat": 4,
  "nbformat_minor": 0
}
